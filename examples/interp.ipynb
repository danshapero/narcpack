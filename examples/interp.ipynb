{
 "cells": [
  {
   "cell_type": "markdown",
   "metadata": {},
   "source": [
    "# Interpolation"
   ]
  },
  {
   "cell_type": "markdown",
   "metadata": {},
   "source": [
    "Import what we need from narcpack and other modules:"
   ]
  },
  {
   "cell_type": "code",
   "execution_count": null,
   "metadata": {
    "ExecuteTime": {
     "end_time": "2019-02-28T20:07:54.305368Z",
     "start_time": "2019-02-28T20:07:53.930284Z"
    }
   },
   "outputs": [],
   "source": [
    "from narcpack.interp import Rbf,Polyinterp\n",
    "import numpy as np\n",
    "import matplotlib.pyplot as plt\n",
    "plt.style.use('seaborn')"
   ]
  },
  {
   "cell_type": "markdown",
   "metadata": {},
   "source": [
    "## Radial basis functions (and polynomial)"
   ]
  },
  {
   "cell_type": "markdown",
   "metadata": {},
   "source": [
    "These are the basis functions available to the `Rbf` class (along with some colors):"
   ]
  },
  {
   "cell_type": "code",
   "execution_count": null,
   "metadata": {
    "ExecuteTime": {
     "end_time": "2019-02-28T20:07:54.312116Z",
     "start_time": "2019-02-28T20:07:54.308512Z"
    }
   },
   "outputs": [],
   "source": [
    "functions = ['multiquadric','inverse multiquadric','inverse quadratic','gaussian','linear','cubic','quintic']\n",
    "ls = ['tab:blue','tab:orange','tab:red','tab:brown','tab:pink','tab:gray','tab:cyan']"
   ]
  },
  {
   "cell_type": "markdown",
   "metadata": {},
   "source": [
    "Now we'll define a function to help us make these plots. It takes a function `g` to interpolate using `n` points spaced over `interval` (with linear spacing or random spacing if `rand` is true)."
   ]
  },
  {
   "cell_type": "code",
   "execution_count": null,
   "metadata": {
    "ExecuteTime": {
     "end_time": "2019-02-28T20:07:54.399543Z",
     "start_time": "2019-02-28T20:07:54.315190Z"
    }
   },
   "outputs": [],
   "source": [
    "def make_Rbf_plots(g, n=10, interval=[-1,1], rand=False):\n",
    "    fig, ax = plt.subplots(1,2,figsize=[12,4])\n",
    "    if rand:\n",
    "        x = np.sort(np.random.uniform(interval[0],interval[1],n))\n",
    "    else:\n",
    "        x = np.linspace(interval[0],interval[1],n)\n",
    "    xfine = np.linspace(interval[0]-0.25*np.abs(interval[0]),interval[1]+0.25*np.abs(interval[1]),1000)\n",
    "    ax[0].plot(xfine,g(xfine),'--k',label='True')\n",
    "    yl = ax[0].get_ylim()\n",
    "    p = Polyinterp(x, g(x))\n",
    "    ax[0].plot(xfine,p(xfine),'k',label='Polynomial')\n",
    "    ax[1].plot(xfine,np.abs(p(xfine)-g(xfine)),'k')\n",
    "    for i, function in enumerate(functions):\n",
    "        r = Rbf(x, g(x), function=function)\n",
    "        ax[0].plot(xfine,r(xfine),ls[i],label='Rbf '+function)\n",
    "        ax[0].plot(x, g(x), 'ok')\n",
    "        ax[1].semilogy(xfine,np.abs(r(xfine)-g(xfine)),ls[i])\n",
    "    if (ax[0].get_ylim()[0] < 2*yl[0]) | (ax[0].get_ylim()[1] > 2*yl[1]):\n",
    "        ax[0].set_ylim([yl[0]-1,yl[1]+1])\n",
    "    ax[1].set_ylim([np.max([1e-9,ax[1].get_ylim()[0]]),ax[1].get_ylim()[1]])\n",
    "    fig.legend(loc=5,bbox_to_anchor=[1.2,0.5])\n",
    "    fig.tight_layout()"
   ]
  },
  {
   "cell_type": "markdown",
   "metadata": {},
   "source": [
    "Now we'll generate some plots."
   ]
  },
  {
   "cell_type": "code",
   "execution_count": null,
   "metadata": {
    "ExecuteTime": {
     "end_time": "2019-02-28T20:07:55.989633Z",
     "start_time": "2019-02-28T20:07:54.402333Z"
    }
   },
   "outputs": [],
   "source": [
    "make_Rbf_plots(lambda x : np.abs(x), n=10, rand=False)"
   ]
  },
  {
   "cell_type": "code",
   "execution_count": null,
   "metadata": {
    "ExecuteTime": {
     "end_time": "2019-02-28T20:07:57.234932Z",
     "start_time": "2019-02-28T20:07:55.992960Z"
    }
   },
   "outputs": [],
   "source": [
    "make_Rbf_plots(lambda x : np.sign(x), n=10, rand=True)"
   ]
  },
  {
   "cell_type": "code",
   "execution_count": null,
   "metadata": {
    "ExecuteTime": {
     "end_time": "2019-02-28T20:07:58.676568Z",
     "start_time": "2019-02-28T20:07:57.237868Z"
    }
   },
   "outputs": [],
   "source": [
    "make_Rbf_plots(lambda x : 1.0/(1.0+25.0*x**2), n=50, rand=False)"
   ]
  },
  {
   "cell_type": "code",
   "execution_count": null,
   "metadata": {
    "ExecuteTime": {
     "end_time": "2019-02-28T20:07:59.993285Z",
     "start_time": "2019-02-28T20:07:58.680000Z"
    }
   },
   "outputs": [],
   "source": [
    "make_Rbf_plots(lambda x : np.exp(x), interval=[0,8], n=50, rand=False)"
   ]
  },
  {
   "cell_type": "code",
   "execution_count": null,
   "metadata": {
    "ExecuteTime": {
     "end_time": "2019-02-28T20:08:01.922128Z",
     "start_time": "2019-02-28T20:07:59.996163Z"
    }
   },
   "outputs": [],
   "source": [
    "make_Rbf_plots(lambda x : 4*np.sin(x)-2*np.cos(0.5*x)+np.sin(3*x), interval=[-10,10], n=100, rand=True)"
   ]
  },
  {
   "cell_type": "markdown",
   "metadata": {},
   "source": [
    "## Timing"
   ]
  },
  {
   "cell_type": "markdown",
   "metadata": {},
   "source": [
    "Now we'll try timing our methods. First we need the `time` module."
   ]
  },
  {
   "cell_type": "code",
   "execution_count": null,
   "metadata": {
    "ExecuteTime": {
     "end_time": "2019-02-28T20:08:01.931173Z",
     "start_time": "2019-02-28T20:08:01.926582Z"
    }
   },
   "outputs": [],
   "source": [
    "import time"
   ]
  },
  {
   "cell_type": "markdown",
   "metadata": {},
   "source": [
    "First we'll try a large problem. `Polyinterp` can't handle it."
   ]
  },
  {
   "cell_type": "code",
   "execution_count": null,
   "metadata": {
    "ExecuteTime": {
     "end_time": "2019-02-28T20:09:21.256935Z",
     "start_time": "2019-02-28T20:09:04.041367Z"
    }
   },
   "outputs": [],
   "source": [
    "g = lambda x : 4*np.sin(x)-2*np.cos(0.5*x)+np.sin(3*x)\n",
    "x = np.linspace(-10,10,1e3)\n",
    "t = time.time()\n",
    "p = Polyinterp(x, g(x))\n",
    "elapsed = time.time()-t\n",
    "print('Time\\t\\t\\tAbsolute error\\t\\tMethod')\n",
    "print('=====================================================================')\n",
    "print(str(elapsed)+'\\t'+str(np.max(np.abs(p(x)-g(x))))+'\\t\\t\\tPolynomial')\n",
    "for function in functions:\n",
    "    t = time.time()\n",
    "    r = Rbf(x, g(x), function=function)\n",
    "    elapsed = time.time()-t\n",
    "    print(str(elapsed)+'\\t'+str(np.max(np.abs(r(x)-g(x))))+'\\tRbf '+function)"
   ]
  },
  {
   "cell_type": "markdown",
   "metadata": {},
   "source": [
    "Now let's take the minimum timing over a bunch of small problems."
   ]
  },
  {
   "cell_type": "code",
   "execution_count": null,
   "metadata": {
    "ExecuteTime": {
     "end_time": "2019-02-28T20:17:59.567484Z",
     "start_time": "2019-02-28T20:17:55.122371Z"
    }
   },
   "outputs": [],
   "source": [
    "g = lambda x : 4*np.sin(x)-2*np.cos(0.5*x)+np.sin(3*x)\n",
    "x = np.linspace(-4,4,20)\n",
    "elapsed = np.Inf\n",
    "for i in range(1000):\n",
    "    t = time.time()\n",
    "    p = Polyinterp(x, g(x))\n",
    "    elapsed = np.min([elapsed,time.time()-t])\n",
    "print('Time\\t\\t\\tMethod')\n",
    "print('=============================================')\n",
    "print(str(elapsed)+'\\tPolynomial')\n",
    "for function in functions:\n",
    "    elapsed = np.Inf\n",
    "    for i in range(1000):\n",
    "        t = time.time()\n",
    "        r = Rbf(x, g(x), function=function)\n",
    "        elapsed = np.min([elapsed,time.time()-t])\n",
    "    print(str(elapsed)+'\\tRbf '+function)"
   ]
  }
 ],
 "metadata": {
  "kernelspec": {
   "display_name": "Python 3",
   "language": "python",
   "name": "python3"
  },
  "language_info": {
   "codemirror_mode": {
    "name": "ipython",
    "version": 3
   },
   "file_extension": ".py",
   "mimetype": "text/x-python",
   "name": "python",
   "nbconvert_exporter": "python",
   "pygments_lexer": "ipython3",
   "version": "3.7.3"
  }
 },
 "nbformat": 4,
 "nbformat_minor": 2
}
