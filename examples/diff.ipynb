{
 "cells": [
  {
   "cell_type": "markdown",
   "metadata": {},
   "source": [
    "# Differentiation"
   ]
  },
  {
   "cell_type": "code",
   "execution_count": null,
   "metadata": {
    "ExecuteTime": {
     "end_time": "2019-03-14T19:38:46.552549Z",
     "start_time": "2019-03-14T19:38:45.810633Z"
    }
   },
   "outputs": [],
   "source": [
    "from narcpack.diff import fftdiff, iterdiff, smoothed_fd_diff\n",
    "import numpy as np\n",
    "import matplotlib.pyplot as pp"
   ]
  },
  {
   "cell_type": "markdown",
   "metadata": {},
   "source": [
    "## `fftdiff`\n",
    "We'll try `fftdiff` first. It only really works with periodic data on a uniform grid."
   ]
  },
  {
   "cell_type": "code",
   "execution_count": null,
   "metadata": {
    "ExecuteTime": {
     "end_time": "2019-03-14T19:38:47.544482Z",
     "start_time": "2019-03-14T19:38:47.538880Z"
    }
   },
   "outputs": [],
   "source": [
    "x = np.linspace(0,2*np.pi,512,endpoint=False)\n",
    "y = np.sin(x)"
   ]
  },
  {
   "cell_type": "code",
   "execution_count": null,
   "metadata": {
    "ExecuteTime": {
     "end_time": "2019-03-14T19:38:48.494401Z",
     "start_time": "2019-03-14T19:38:48.291317Z"
    }
   },
   "outputs": [],
   "source": [
    "pp.plot(x,y,x,fftdiff(y))"
   ]
  },
  {
   "cell_type": "markdown",
   "metadata": {},
   "source": [
    "What if the input is no longer periodic?"
   ]
  },
  {
   "cell_type": "code",
   "execution_count": null,
   "metadata": {
    "ExecuteTime": {
     "end_time": "2019-03-14T19:39:35.144749Z",
     "start_time": "2019-03-14T19:39:35.140733Z"
    }
   },
   "outputs": [],
   "source": [
    "x = np.linspace(0,2*np.pi,512,endpoint=True)\n",
    "y = np.sin(x)"
   ]
  },
  {
   "cell_type": "code",
   "execution_count": null,
   "metadata": {
    "ExecuteTime": {
     "end_time": "2019-03-14T19:39:39.607595Z",
     "start_time": "2019-03-14T19:39:39.354016Z"
    }
   },
   "outputs": [],
   "source": [
    "pp.plot(x,y,x,fftdiff(y))"
   ]
  },
  {
   "cell_type": "code",
   "execution_count": null,
   "metadata": {
    "ExecuteTime": {
     "end_time": "2019-03-14T19:40:35.072685Z",
     "start_time": "2019-03-14T19:40:35.068390Z"
    }
   },
   "outputs": [],
   "source": [
    "x = np.linspace(0,1,100)\n",
    "y = x"
   ]
  },
  {
   "cell_type": "code",
   "execution_count": null,
   "metadata": {
    "ExecuteTime": {
     "end_time": "2019-03-14T19:40:35.988047Z",
     "start_time": "2019-03-14T19:40:35.785256Z"
    }
   },
   "outputs": [],
   "source": [
    "pp.plot(x,y,x,fftdiff(y))"
   ]
  },
  {
   "cell_type": "markdown",
   "metadata": {},
   "source": [
    "What if we add noise?"
   ]
  },
  {
   "cell_type": "code",
   "execution_count": null,
   "metadata": {
    "ExecuteTime": {
     "end_time": "2019-03-14T19:41:48.559278Z",
     "start_time": "2019-03-14T19:41:48.555510Z"
    }
   },
   "outputs": [],
   "source": [
    "x = np.linspace(0,2*np.pi,100,endpoint=False)\n",
    "y = np.sin(x)+0.1*np.random.rand(np.size(y))"
   ]
  },
  {
   "cell_type": "code",
   "execution_count": null,
   "metadata": {
    "ExecuteTime": {
     "end_time": "2019-03-14T19:42:11.671808Z",
     "start_time": "2019-03-14T19:42:11.481761Z"
    }
   },
   "outputs": [],
   "source": [
    "pp.plot(x,y,x,fftdiff(y))"
   ]
  },
  {
   "cell_type": "markdown",
   "metadata": {},
   "source": [
    "## `iterdiff`\n",
    "Now we'll try iterated finite differences. It takes the forward finite difference and then iterates a chosen amount of times between taking the antiderivative with the trapezoid rule and differentiating again. The idea is to smooth out derivates of noisy data, which works somewhat. However, nothing special is being done at the boundaries, so the output is shorter than the input."
   ]
  },
  {
   "cell_type": "code",
   "execution_count": null,
   "metadata": {
    "ExecuteTime": {
     "end_time": "2019-03-14T19:47:46.157243Z",
     "start_time": "2019-03-14T19:47:46.153186Z"
    }
   },
   "outputs": [],
   "source": [
    "x = np.linspace(0,2*np.pi,512)\n",
    "y = np.sin(x)"
   ]
  },
  {
   "cell_type": "code",
   "execution_count": null,
   "metadata": {
    "ExecuteTime": {
     "end_time": "2019-03-14T19:47:46.806861Z",
     "start_time": "2019-03-14T19:47:46.598191Z"
    }
   },
   "outputs": [],
   "source": [
    "pp.plot(x,y,*iterdiff(x,y))"
   ]
  },
  {
   "cell_type": "code",
   "execution_count": null,
   "metadata": {
    "ExecuteTime": {
     "end_time": "2019-03-14T19:47:47.896975Z",
     "start_time": "2019-03-14T19:47:47.465134Z"
    }
   },
   "outputs": [],
   "source": [
    "pp.plot(x,y,*iterdiff(x,y,10))"
   ]
  },
  {
   "cell_type": "code",
   "execution_count": null,
   "metadata": {
    "ExecuteTime": {
     "end_time": "2019-03-14T19:48:01.912215Z",
     "start_time": "2019-03-14T19:48:01.906490Z"
    }
   },
   "outputs": [],
   "source": [
    "x = np.linspace(0,2*np.pi,512)\n",
    "y = np.sin(x)+0.1*np.random.rand(np.size(y))"
   ]
  },
  {
   "cell_type": "code",
   "execution_count": null,
   "metadata": {
    "ExecuteTime": {
     "end_time": "2019-03-14T19:48:12.934571Z",
     "start_time": "2019-03-14T19:48:12.689425Z"
    }
   },
   "outputs": [],
   "source": [
    "pp.plot(x,y,*iterdiff(x,y))"
   ]
  },
  {
   "cell_type": "code",
   "execution_count": null,
   "metadata": {
    "ExecuteTime": {
     "end_time": "2019-03-14T19:48:19.276965Z",
     "start_time": "2019-03-14T19:48:18.927405Z"
    }
   },
   "outputs": [],
   "source": [
    "pp.plot(x,y,*iterdiff(x,y,10))"
   ]
  },
  {
   "cell_type": "code",
   "execution_count": null,
   "metadata": {
    "ExecuteTime": {
     "end_time": "2019-03-14T19:48:28.064694Z",
     "start_time": "2019-03-14T19:48:26.787128Z"
    }
   },
   "outputs": [],
   "source": [
    "pp.plot(x,y,*iterdiff(x,y,100))"
   ]
  },
  {
   "cell_type": "markdown",
   "metadata": {},
   "source": [
    "## `smoothed_fd_diff`"
   ]
  },
  {
   "cell_type": "markdown",
   "metadata": {},
   "source": [
    "The last method applies some smoothing before taking the derivative."
   ]
  },
  {
   "cell_type": "code",
   "execution_count": null,
   "metadata": {
    "ExecuteTime": {
     "end_time": "2019-03-14T20:00:20.363179Z",
     "start_time": "2019-03-14T20:00:20.358629Z"
    }
   },
   "outputs": [],
   "source": [
    "x = np.linspace(0,2*np.pi,512)\n",
    "y = np.sin(x)+0.1*np.random.rand(np.size(y))"
   ]
  },
  {
   "cell_type": "code",
   "execution_count": null,
   "metadata": {
    "ExecuteTime": {
     "end_time": "2019-03-14T20:00:46.271918Z",
     "start_time": "2019-03-14T20:00:46.063243Z"
    }
   },
   "outputs": [],
   "source": [
    "pp.plot(x,y,x,smoothed_fd_diff(y, x))"
   ]
  },
  {
   "cell_type": "code",
   "execution_count": null,
   "metadata": {
    "ExecuteTime": {
     "end_time": "2019-03-14T20:02:13.019969Z",
     "start_time": "2019-03-14T20:02:12.832250Z"
    }
   },
   "outputs": [],
   "source": [
    "pp.plot(x,y,x,smoothed_fd_diff(y, x, smoother='savgol'))"
   ]
  },
  {
   "cell_type": "code",
   "execution_count": null,
   "metadata": {
    "ExecuteTime": {
     "end_time": "2019-03-14T20:03:51.733695Z",
     "start_time": "2019-03-14T20:03:51.528745Z"
    }
   },
   "outputs": [],
   "source": [
    "pp.plot(x,y,x,smoothed_fd_diff(y, x, smoother='median'))"
   ]
  },
  {
   "cell_type": "code",
   "execution_count": null,
   "metadata": {
    "ExecuteTime": {
     "end_time": "2019-03-14T20:04:23.171169Z",
     "start_time": "2019-03-14T20:04:22.978601Z"
    }
   },
   "outputs": [],
   "source": [
    "pp.plot(x,y,x,smoothed_fd_diff(y, x, method='centered difference', smoother='wiener', window_length=30))"
   ]
  },
  {
   "cell_type": "code",
   "execution_count": null,
   "metadata": {},
   "outputs": [],
   "source": []
  }
 ],
 "metadata": {
  "kernelspec": {
   "display_name": "Python 3",
   "language": "python",
   "name": "python3"
  },
  "language_info": {
   "codemirror_mode": {
    "name": "ipython",
    "version": 3
   },
   "file_extension": ".py",
   "mimetype": "text/x-python",
   "name": "python",
   "nbconvert_exporter": "python",
   "pygments_lexer": "ipython3",
   "version": "3.7.3"
  }
 },
 "nbformat": 4,
 "nbformat_minor": 2
}
