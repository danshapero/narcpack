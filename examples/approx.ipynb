{
 "cells": [
  {
   "cell_type": "markdown",
   "metadata": {},
   "source": [
    "# Approximation"
   ]
  },
  {
   "cell_type": "markdown",
   "metadata": {},
   "source": [
    "Let's load the necessary modules."
   ]
  },
  {
   "cell_type": "code",
   "execution_count": null,
   "metadata": {
    "ExecuteTime": {
     "end_time": "2019-02-21T21:13:43.072878Z",
     "start_time": "2019-02-21T21:13:43.061119Z"
    }
   },
   "outputs": [],
   "source": [
    "from narcpack.approx import Cheb, LLS, Rational, RemezPoly, OrthoPoly\n",
    "import numpy as np\n",
    "import matplotlib.pyplot as plt\n",
    "plt.style.use('seaborn')"
   ]
  },
  {
   "cell_type": "markdown",
   "metadata": {},
   "source": [
    "Here we have the\n",
    "- Chebyshev polynomial,\n",
    "- linear least squares,\n",
    "- rational function,\n",
    "- Remez polynomial, and\n",
    "- orthogonal polynomial\n",
    "\n",
    "approximation methods."
   ]
  },
  {
   "cell_type": "markdown",
   "metadata": {},
   "source": [
    "We'll create a list of the classes we'll be testing as well as any optional arguments we want to use."
   ]
  },
  {
   "cell_type": "code",
   "execution_count": null,
   "metadata": {
    "ExecuteTime": {
     "end_time": "2019-02-21T21:13:43.495402Z",
     "start_time": "2019-02-21T21:13:43.490392Z"
    }
   },
   "outputs": [],
   "source": [
    "classes = [LLS,Cheb,Rational,RemezPoly,OrthoPoly]\n",
    "optargs = [{},{'n':4},{},{'n':4},{'n':4}]\n",
    "ls = ['-b','-r','-y','-k','-m']"
   ]
  },
  {
   "cell_type": "markdown",
   "metadata": {},
   "source": [
    "We'll set up a simple function to handle our plotting."
   ]
  },
  {
   "cell_type": "code",
   "execution_count": null,
   "metadata": {
    "ExecuteTime": {
     "end_time": "2019-02-21T21:13:44.065666Z",
     "start_time": "2019-02-21T21:13:44.059217Z"
    }
   },
   "outputs": [],
   "source": [
    "def make_all_plots(g, interval=[-1,1]):\n",
    "    fig, ax = plt.subplots(1,2,figsize=[12,4])\n",
    "    x = np.linspace(interval[0],interval[1],1000)\n",
    "    ax[0].plot(x,g(x),'--k',label='True')\n",
    "    for n, f in enumerate(classes):\n",
    "        a = f(g, interval, **optargs[n])\n",
    "        ax[0].plot(x,a(x),ls[n],label=f.__name__)\n",
    "        ax[1].plot(x,np.abs(a(x)-g(x)),ls[n])\n",
    "    fig.legend()"
   ]
  },
  {
   "cell_type": "markdown",
   "metadata": {},
   "source": [
    "First we'll try the absolute value function."
   ]
  },
  {
   "cell_type": "code",
   "execution_count": null,
   "metadata": {
    "ExecuteTime": {
     "end_time": "2019-02-21T21:13:45.219612Z",
     "start_time": "2019-02-21T21:13:44.740327Z"
    }
   },
   "outputs": [],
   "source": [
    "make_all_plots(lambda x : np.abs(x))"
   ]
  },
  {
   "cell_type": "markdown",
   "metadata": {},
   "source": [
    "Now we'll try the sign function."
   ]
  },
  {
   "cell_type": "code",
   "execution_count": null,
   "metadata": {
    "ExecuteTime": {
     "end_time": "2019-02-21T21:13:46.836230Z",
     "start_time": "2019-02-21T21:13:46.169194Z"
    },
    "scrolled": true
   },
   "outputs": [],
   "source": [
    "make_all_plots(lambda x : np.sign(x))"
   ]
  },
  {
   "cell_type": "markdown",
   "metadata": {},
   "source": [
    "Now we'll try the Runge function and see if we observe Runge's phenomenon."
   ]
  },
  {
   "cell_type": "code",
   "execution_count": null,
   "metadata": {
    "ExecuteTime": {
     "end_time": "2019-02-21T21:13:47.980967Z",
     "start_time": "2019-02-21T21:13:47.379226Z"
    }
   },
   "outputs": [],
   "source": [
    "make_all_plots(lambda x : 1.0/(1.0+25.0*x**2))"
   ]
  },
  {
   "cell_type": "markdown",
   "metadata": {},
   "source": [
    "Next is the exponential function."
   ]
  },
  {
   "cell_type": "code",
   "execution_count": null,
   "metadata": {
    "ExecuteTime": {
     "end_time": "2019-02-21T21:13:48.590269Z",
     "start_time": "2019-02-21T21:13:48.057058Z"
    },
    "scrolled": true
   },
   "outputs": [],
   "source": [
    "make_all_plots(lambda x : np.exp(x), [0,8])"
   ]
  },
  {
   "cell_type": "markdown",
   "metadata": {},
   "source": [
    "Finally we'll try a function with an interval that approaches a singularity."
   ]
  },
  {
   "cell_type": "code",
   "execution_count": null,
   "metadata": {
    "ExecuteTime": {
     "end_time": "2019-02-21T21:13:49.698084Z",
     "start_time": "2019-02-21T21:13:49.110065Z"
    }
   },
   "outputs": [],
   "source": [
    "make_all_plots(lambda x : np.exp(1.0/(1.0-x)), [-1,0.8])"
   ]
  },
  {
   "cell_type": "markdown",
   "metadata": {},
   "source": [
    "## More on the sign function\n",
    "Let's turn our attention to the classes that use polynomial approximation: `Cheb`, `RemezPoly`, and `OrthoPoly`."
   ]
  },
  {
   "cell_type": "code",
   "execution_count": null,
   "metadata": {
    "ExecuteTime": {
     "end_time": "2019-02-21T21:22:15.706385Z",
     "start_time": "2019-02-21T21:22:15.700494Z"
    }
   },
   "outputs": [],
   "source": [
    "classes = [Cheb,RemezPoly,OrthoPoly]"
   ]
  },
  {
   "cell_type": "code",
   "execution_count": null,
   "metadata": {
    "ExecuteTime": {
     "end_time": "2019-02-21T21:23:06.924087Z",
     "start_time": "2019-02-21T21:23:06.908878Z"
    }
   },
   "outputs": [],
   "source": [
    "def make_sign_plots(f):\n",
    "    g = lambda x : np.sign(x)\n",
    "    fig, ax = plt.subplots(1,2,figsize=[12,4])\n",
    "    x = np.linspace(-1,1,1000)\n",
    "    ax[0].plot(x,g(x),'--k',label='True')\n",
    "    for n in range(5,10):\n",
    "        a = f(g, [-1,1], n=n)\n",
    "        ax[0].plot(x,a(x),label=str(n))\n",
    "        ax[1].plot(x,np.abs(a(x)-g(x)))\n",
    "    fig.suptitle(f.__name__)\n",
    "    fig.legend()"
   ]
  },
  {
   "cell_type": "code",
   "execution_count": null,
   "metadata": {
    "ExecuteTime": {
     "end_time": "2019-02-21T21:23:13.880197Z",
     "start_time": "2019-02-21T21:23:12.641293Z"
    },
    "scrolled": true
   },
   "outputs": [],
   "source": [
    "for f in classes:\n",
    "    make_sign_plots(f)"
   ]
  },
  {
   "cell_type": "markdown",
   "metadata": {},
   "source": [
    "## More on the Runge phenomenon"
   ]
  },
  {
   "cell_type": "code",
   "execution_count": null,
   "metadata": {
    "ExecuteTime": {
     "end_time": "2019-02-21T21:13:51.059198Z",
     "start_time": "2019-02-21T21:13:51.054679Z"
    }
   },
   "outputs": [],
   "source": [
    "classes = [Cheb,RemezPoly,OrthoPoly]"
   ]
  },
  {
   "cell_type": "code",
   "execution_count": null,
   "metadata": {
    "ExecuteTime": {
     "end_time": "2019-02-21T21:23:52.230301Z",
     "start_time": "2019-02-21T21:23:52.224538Z"
    }
   },
   "outputs": [],
   "source": [
    "def make_runge_plots(f):\n",
    "    g = lambda x : 1.0/(1.0+25.0*x**2)\n",
    "    fig, ax = plt.subplots(1,2,figsize=[12,4])\n",
    "    x = np.linspace(-1,1,1000)\n",
    "    ax[0].plot(x,g(x),'--k',label='True')\n",
    "    for n in range(5,10):\n",
    "        a = f(g, [-1,1], n=n)\n",
    "        ax[0].plot(x,a(x),label=str(n))\n",
    "        ax[1].plot(x,np.abs(a(x)-g(x)))\n",
    "    fig.suptitle(f.__name__)\n",
    "    fig.legend()"
   ]
  },
  {
   "cell_type": "code",
   "execution_count": null,
   "metadata": {
    "ExecuteTime": {
     "end_time": "2019-02-21T21:24:03.586551Z",
     "start_time": "2019-02-21T21:24:01.878919Z"
    },
    "scrolled": true
   },
   "outputs": [],
   "source": [
    "for f in classes:\n",
    "    make_runge_plots(f)"
   ]
  },
  {
   "cell_type": "markdown",
   "metadata": {},
   "source": [
    "## More on rational function approximation\n",
    "\n",
    "This notebook was created to explore the effects of different parameter choices when approximating a function by rational functions. The main parameters to vary are the degrees of the polynomials in the numerator and denominator of the approximating function."
   ]
  },
  {
   "cell_type": "code",
   "execution_count": null,
   "metadata": {},
   "outputs": [],
   "source": [
    "def max_rel_err(f,g):\n",
    "    return np.max(np.abs((f-g) / g))"
   ]
  },
  {
   "cell_type": "code",
   "execution_count": null,
   "metadata": {},
   "outputs": [],
   "source": [
    "f = lambda x: np.exp(-x)\n",
    "interval = [0,1]\n",
    "max_deg = 5\n",
    "\n",
    "xx = np.linspace(interval[0],interval[1])"
   ]
  },
  {
   "cell_type": "code",
   "execution_count": null,
   "metadata": {},
   "outputs": [],
   "source": [
    "with plt.style.context(('seaborn-paper')):\n",
    "    fig, axs = plt.subplots(max_deg, max_deg, figsize=(12,12))\n",
    "\n",
    "    for nd in range(max_deg):\n",
    "        for dd in range(max_deg):\n",
    "            g = Rational(f, interval=interval, degs=[nd,dd])\n",
    "            axs[nd,dd].plot(xx,f(xx),'-',xx,g(xx),'--')\n",
    "            title_str = \"({0},{1}):  {2:1.2e}\".format(nd,dd,max_rel_err(f(xx),g(xx)))\n",
    "            axs[nd,dd].set(title=title_str)\n",
    "\n",
    "\n",
    "    plt.tight_layout()\n",
    "    plt.show()"
   ]
  },
  {
   "cell_type": "code",
   "execution_count": null,
   "metadata": {},
   "outputs": [],
   "source": []
  }
 ],
 "metadata": {
  "kernelspec": {
   "display_name": "Python 3",
   "language": "python",
   "name": "python3"
  },
  "language_info": {
   "codemirror_mode": {
    "name": "ipython",
    "version": 3
   },
   "file_extension": ".py",
   "mimetype": "text/x-python",
   "name": "python",
   "nbconvert_exporter": "python",
   "pygments_lexer": "ipython3",
   "version": "3.7.3"
  }
 },
 "nbformat": 4,
 "nbformat_minor": 2
}
