{
 "cells": [
  {
   "cell_type": "markdown",
   "metadata": {},
   "source": [
    "# Rational function approximation\n",
    "\n",
    "This notebook was created to explore the effects of different parameter choices when approximating a function by rational functions. The main parameters to vary are the degrees of the polynomials in the numerator and denominator of the approximating function."
   ]
  },
  {
   "cell_type": "code",
   "execution_count": 3,
   "metadata": {
    "collapsed": false
   },
   "outputs": [
    {
     "ename": "SyntaxError",
     "evalue": "invalid syntax (Cheb.py, line 29)",
     "output_type": "error",
     "traceback": [
      "Traceback \u001b[0;36m(most recent call last)\u001b[0m:\n",
      "  File \u001b[1;32m\"/usr/local/lib/python3.4/dist-packages/IPython/core/interactiveshell.py\"\u001b[0m, line \u001b[1;32m2961\u001b[0m, in \u001b[1;35mrun_code\u001b[0m\n    exec(code_obj, self.user_global_ns, self.user_ns)\n",
      "  File \u001b[1;32m\"<ipython-input-3-37562c0dd840>\"\u001b[0m, line \u001b[1;32m3\u001b[0m, in \u001b[1;35m<module>\u001b[0m\n    from narcpack.approx import Rational\n",
      "\u001b[0;36m  File \u001b[0;32m\"/usr/local/lib/python3.4/dist-packages/narcpack/approx/__init__.py\"\u001b[0;36m, line \u001b[0;32m3\u001b[0;36m, in \u001b[0;35m<module>\u001b[0;36m\u001b[0m\n\u001b[0;31m    from .Cheb import Cheb\u001b[0m\n",
      "\u001b[0;36m  File \u001b[0;32m\"/usr/local/lib/python3.4/dist-packages/narcpack/approx/Cheb.py\"\u001b[0;36m, line \u001b[0;32m29\u001b[0m\n\u001b[0;31m    c = (2/(n+1))*T@f(np.cos(x)) # could implement as DCT instead of matrix multiply\u001b[0m\n\u001b[0m                   ^\u001b[0m\n\u001b[0;31mSyntaxError\u001b[0m\u001b[0;31m:\u001b[0m invalid syntax\n"
     ]
    }
   ],
   "source": [
    "import matplotlib.pyplot as plt\n",
    "from narcpack.approx import Rational"
   ]
  },
  {
   "cell_type": "code",
   "execution_count": null,
   "metadata": {
    "collapsed": true
   },
   "outputs": [],
   "source": [
    "def max_rel_err(f,g):\n",
    "    return np.max(np.abs((f-g) / g))"
   ]
  },
  {
   "cell_type": "code",
   "execution_count": null,
   "metadata": {
    "collapsed": false
   },
   "outputs": [],
   "source": [
    "f = lambda x: np.exp(-x)\n",
    "interval = [0,1]\n",
    "max_deg = 5\n",
    "\n",
    "xx = np.linspace(interval[0],interval[1])"
   ]
  },
  {
   "cell_type": "code",
   "execution_count": null,
   "metadata": {
    "collapsed": true
   },
   "outputs": [],
   "source": [
    "with plt.style.context(('seaborn-paper')):\n",
    "    fig, axs = plt.subplots(max_deg, max_deg, figsize=(12,12))\n",
    "\n",
    "    for nd in range(max_deg):\n",
    "        for dd in range(max_deg):\n",
    "            g = Rational(f, interval=interval, degs=[nd,dd])\n",
    "            axs[nd,dd].plot(xx,f(xx),'-',xx,g.eval(xx),'--')\n",
    "            title_str = \"({0},{1}):  {2:1.2e}\".format(nd,dd,max_rel_err(f(xx),g.eval(xx)))\n",
    "            axs[nd,dd].set(title=title_str)\n",
    "\n",
    "\n",
    "    plt.tight_layout()\n",
    "    plt.show()"
   ]
  }
 ],
 "metadata": {
  "kernelspec": {
   "display_name": "Python 3",
   "language": "python",
   "name": "python3"
  },
  "language_info": {
   "codemirror_mode": {
    "name": "ipython",
    "version": 3
   },
   "file_extension": ".py",
   "mimetype": "text/x-python",
   "name": "python",
   "nbconvert_exporter": "python",
   "pygments_lexer": "ipython3",
   "version": "3.4.3"
  }
 },
 "nbformat": 4,
 "nbformat_minor": 2
}
